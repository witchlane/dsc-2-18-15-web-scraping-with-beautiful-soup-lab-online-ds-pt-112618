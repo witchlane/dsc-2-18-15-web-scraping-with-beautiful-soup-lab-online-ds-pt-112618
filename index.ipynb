{
 "cells": [
  {
   "cell_type": "markdown",
   "metadata": {},
   "source": [
    "# Web Scraping with Beautiful Soup - Lab"
   ]
  },
  {
   "cell_type": "markdown",
   "metadata": {},
   "source": [
    "## Introduction\n",
    "\n",
    "Now that you've read and seen some docmentation regarding the use of Beautiful Soup, its time to practice and put that to work! In this lab you'll formalize some of our example code into functions and scrape the lyrics from an artist of your choice."
   ]
  },
  {
   "cell_type": "markdown",
   "metadata": {},
   "source": [
    "## Objectives\n",
    "You will be able to:\n",
    "* Scrape Static webpages\n",
    "* Select specific elements from the DOM"
   ]
  },
  {
   "cell_type": "markdown",
   "metadata": {},
   "source": [
    "## Link Scraping\n",
    "\n",
    "Write a function to collect the links to each of the song pages from a given artist page."
   ]
  },
  {
   "cell_type": "code",
   "execution_count": 5,
   "metadata": {},
   "outputs": [],
   "source": [
    "from bs4 import BeautifulSoup\n",
    "import requests"
   ]
  },
  {
   "cell_type": "code",
   "execution_count": 8,
   "metadata": {},
   "outputs": [],
   "source": [
    "#Starter Code\n",
    "\n",
    "def grab_song_link(artist_page_url):\n",
    "\n",
    "    url = artist_page_url #Put the URL of your AZLyrics Artist Page here!\n",
    "\n",
    "    html_page = requests.get(url) #Make a get request to retrieve the page\n",
    "    soup = BeautifulSoup(html_page.content, 'html.parser') #Pass the page contents to beautiful soup for parsing\n",
    "    albums = soup.find_all(\"div\", class_=\"album\")\n",
    "\n",
    "#The example from our lecture/reading\n",
    "    data = [] #Create a storage container\n",
    "    for album_n in range(len(albums)):\n",
    "        #On the last album, we won't be able to look forward\n",
    "            if album_n == len(albums)-1:\n",
    "                cur_album = albums[album_n]\n",
    "                album_songs = cur_album.findNextSiblings('a')\n",
    "                for song in album_songs:\n",
    "                    page = song.get('href')\n",
    "                    title = song.text\n",
    "                    album = cur_album.text\n",
    "                    data.append((title, page, album))\n",
    "            else:\n",
    "                cur_album = albums[album_n]\n",
    "                next_album = albums[album_n+1]\n",
    "                saca = cur_album.findNextSiblings('a') #songs after current album\n",
    "                sbna = next_album.findPreviousSiblings('a') #songs before next album\n",
    "                album_songs = [song for song in saca if song in sbna] #album songs are those listed after the current album but before the next one!\n",
    "                for song in album_songs:\n",
    "                    page = song.get('href')\n",
    "                    title = song.text\n",
    "                    album = cur_album.text\n",
    "                    data.append((title, page, album))\n",
    "    return data"
   ]
  },
  {
   "cell_type": "code",
   "execution_count": 12,
   "metadata": {},
   "outputs": [
    {
     "name": "stdout",
     "output_type": "stream",
     "text": [
      "[('I Will Follow', '../lyrics/u2band/iwillfollow.html', 'album: \"Boy\" (1980)'), ('Twilight', '../lyrics/u2band/twilight.html', 'album: \"Boy\" (1980)'), ('An Cat Dubh', '../lyrics/u2band/ancatdubh.html', 'album: \"Boy\" (1980)'), ('Into The Heart', '../lyrics/u2band/intotheheart.html', 'album: \"Boy\" (1980)'), ('Out Of Control', '../lyrics/u2band/outofcontrol.html', 'album: \"Boy\" (1980)')]\n"
     ]
    }
   ],
   "source": [
    "grabs = grab_song_link('https://www.azlyrics.com/u/u2band.html')\n",
    "print(grabs[:5])"
   ]
  },
  {
   "cell_type": "code",
   "execution_count": null,
   "metadata": {},
   "outputs": [],
   "source": [
    "##def grab_song_link(artist_page_url)\n",
    "\n",
    "url = 'https://www.azlyrics.com/u/u2band.html' #Put the URL of your AZLyrics Artist Page here!\n",
    "\n",
    "html_page = requests.get(url) #Make a get request to retrieve the page\n",
    "soup = BeautifulSoup(html_page.content, 'html.parser') #Pass the page contents to beautiful soup for parsing\n",
    "\n",
    "\n",
    "#The example from our lecture/reading\n",
    "data = [] #Create a storage container\n",
    "for album_n in range(len(albums)):\n",
    "    #On the last album, we won't be able to look forward\n",
    "    if album_n == len(albums)-1:\n",
    "        cur_album = albums[album_n]\n",
    "        album_songs = cur_album.findNextSiblings('a')\n",
    "        for song in album_songs:\n",
    "            page = song.get('href')\n",
    "            title = song.text\n",
    "            album = cur_album.text\n",
    "            data.append((title, page, album))\n",
    "    else:\n",
    "        cur_album = albums[album_n]\n",
    "        next_album = albums[album_n+1]\n",
    "        saca = cur_album.findNextSiblings('a') #songs after current album\n",
    "        sbna = next_album.findPreviousSiblings('a') #songs before next album\n",
    "        album_songs = [song for song in saca if song in sbna] #album songs are those listed after the current album but before the next one!\n",
    "        for song in album_songs:\n",
    "            page = song.get('href')\n",
    "            title = song.text\n",
    "            album = cur_album.text\n",
    "            data.append((title, page, album))\n",
    "data[:2]"
   ]
  },
  {
   "cell_type": "markdown",
   "metadata": {},
   "source": [
    "## Text Scraping\n",
    "Write a secondary function that scrapes the lyrics for each song page."
   ]
  },
  {
   "cell_type": "code",
   "execution_count": 13,
   "metadata": {
    "scrolled": true
   },
   "outputs": [
    {
     "data": {
      "text/plain": [
       "'<!DOCTYPE html>\\n<html lang=\"en\">\\n <head>\\n  <meta charset=\"utf-8\"/>\\n  <meta content=\"IE=edge\" http-equiv=\"X-UA-Compatible\"/>\\n  <meta content=\"width=device-width, initial-scale=1\" name=\"viewport\"/>\\n  <meta content=\"Lyrics to &quot;Sunday Bloody Sunday&quot; song by U2: Yes... I can\\'t believe the news today Oh, I can\\'t close my eyes And make it go away How long....\" name=\"description\"/>\\n  <meta content=\"Sunday Bloody Sunday lyrics, U2 Sunday Bloody Sunday lyrics, U2 lyrics\" name=\"keywords\"/>\\n  <meta content=\"noarchive\" name=\"robots\"/>\\n  <meta content=\"//www.azlyrics.com/az_logo_tr.png\" property=\"og:image\"/>\\n  <title>\\n   U2 - Sunday Bloody Sunday Lyrics | AZLyrics.com\\n  </title>\\n  <link href=\"https://maxcdn.bootstrapcdn.com/bootstrap/3.3.4/css/bootstrap.min.css\" rel=\"stylesheet\"/>\\n  <link href=\"//www.azlyrics.com/bsaz.css\" rel=\"stylesheet\"/>\\n  <!-- HTML5 shim and Respond.js for IE8 support of HTML5 elements and media queries -->\\n  <!--[if lt IE 9]>\\r\\n<script src=\"https://oss.maxcdn.com/html'"
      ]
     },
     "execution_count": 13,
     "metadata": {},
     "output_type": "execute_result"
    }
   ],
   "source": [
    "#Remember to open up the webpage in a browser and control-click/right-click and go to inspect!\n",
    "\n",
    "#Example page\n",
    "url = 'https://www.azlyrics.com/lyrics/u2band/sundaybloodysunday.html'\n",
    "\n",
    "\n",
    "html_page = requests.get(url)\n",
    "soup = BeautifulSoup(html_page.content, 'html.parser')\n",
    "soup.prettify()[:1000]"
   ]
  },
  {
   "cell_type": "code",
   "execution_count": 14,
   "metadata": {},
   "outputs": [],
   "source": [
    "divs = soup.findAll('div')"
   ]
  },
  {
   "cell_type": "code",
   "execution_count": 15,
   "metadata": {},
   "outputs": [],
   "source": [
    "div = divs[0]"
   ]
  },
  {
   "cell_type": "code",
   "execution_count": 16,
   "metadata": {},
   "outputs": [],
   "source": [
    "for n, div in enumerate(divs):\n",
    "    if \"<!-- Usage of aslyrics.com content by any \" in div.text:\n",
    "        print(n)"
   ]
  },
  {
   "cell_type": "code",
   "execution_count": 17,
   "metadata": {},
   "outputs": [],
   "source": [
    "main_page = soup.find('div', {\"class\": \"container main-page\"})\n",
    "main_l2 = main_page.find('div', {\"class\": \"row\"})\n",
    "main_l3 = main_l2.find('div', {\"class\": \"col-xs-12 col-lg-8 text-center\"})"
   ]
  },
  {
   "cell_type": "code",
   "execution_count": 18,
   "metadata": {},
   "outputs": [
    {
     "data": {
      "text/plain": [
       "\"\\n\\r\\nYes...\\n\\r\\nI can't believe the news today\\r\\nOh, I can't close my eyes \\r\\nAnd make it go away\\r\\nHow long...\\r\\nHow long must we sing this song\\r\\nHow long, how long...\\r\\n'cause tonight...we can be as one\\r\\nTonight...\\n\\r\\nBroken bottles under children's feet\\r\\nBodies strewn across the dead end street\\r\\nBut I won't heed the battle call\\r\\nIt puts my back up\\r\\nPuts my back up against the wall\\n\\r\\nSunday, Bloody Sunday\\r\\nSunday, Bloody Sunday\\r\\nSunday, Bloody Sunday\\n\\r\\nAnd the battle's just begun\\r\\nThere's many lost, but tell me who has won\\r\\nThe trench is dug within our hearts\\r\\nAnd mothers, children, brothers, sisters \\r\\nTorn apart\\n\\r\\nSunday, Bloody Sunday\\r\\nSunday, Bloody Sunday\\n\\r\\nHow long...\\r\\nHow long must we sing this song\\r\\nHow long, how long...\\r\\n'cause tonight...we can be as one\\r\\nTonight...tonight... \\n\\r\\nSunday, Bloody Sunday\\r\\nSunday, Bloody Sunday\\n\\r\\nWipe the tears from your eyes\\r\\nWipe your tears away\\r\\nOh, wipe your tears away\\r\\nOh, wipe your tears away\\r\\n(Sunday, Bloody Sunday)\\r\\nOh, wipe your blood shot eyes\\r\\n(Sunday, Bloody Sunday)\\n\\r\\nSunday, Bloody Sunday (Sunday, Bloody Sunday)\\r\\nSunday, Bloody Sunday (Sunday, Bloody Sunday)\\n\\r\\nAnd it's true we are immune\\r\\nWhen fact is fiction and TV reality\\r\\nAnd today the millions cry\\r\\nWe eat and drink while tomorrow they die\\n\\r\\n(Sunday, Bloody Sunday)\\n\\r\\nThe real battle just begun\\r\\nTo claim the victory Jesus won\\r\\nOn...\\n\\r\\nSunday Bloody Sunday\\r\\nSunday Bloody Sunday...\\n\""
      ]
     },
     "execution_count": 18,
     "metadata": {},
     "output_type": "execute_result"
    }
   ],
   "source": [
    "lyrics = main_l3.findAll('div')[6].text\n",
    "lyrics"
   ]
  },
  {
   "cell_type": "code",
   "execution_count": 19,
   "metadata": {},
   "outputs": [],
   "source": [
    "def scrape_lyric(song_url):\n",
    "    html_page = requests.get(song_url)\n",
    "    soup = BeautifulSoup(html_page.content, 'html.parser')\n",
    "    main_page = soup.find('div', {\"class\" : \"container main-page\"})\n",
    "    main_l2 = main_page.find('div', {\"class\" : \"row\"})\n",
    "    main_l3 = main_l2.find('div', {\"class\" : \"col-xs-12 col-lg-8 text-center\"})\n",
    "    lyrics = main_l3.findAll('div')[6].text\n",
    "    return lyrics"
   ]
  },
  {
   "cell_type": "code",
   "execution_count": 36,
   "metadata": {},
   "outputs": [
    {
     "data": {
      "text/plain": [
       "<div class=\"col-xs-12 col-lg-8 text-center\">\n",
       "<div class=\"div-share noprint\">\n",
       "<div class=\"fb-like\" data-action=\"like\" data-href=\"https://www.azlyrics.com/lyrics/u2band/sundaybloodysunday.html\" data-layout=\"button_count\" data-share=\"false\" data-show-faces=\"false\" style=\"float:left;\"></div>\n",
       "<!-- AddThis Button BEGIN -->\n",
       "<script src=\"https://s7.addthis.com/js/300/addthis_widget.js#username=azlyrics\" type=\"text/javascript\"></script>\n",
       "<div class=\"addthis_toolbox addthis_default_style\" style=\"float:right;\">\n",
       "<a class=\"btn btn-xs btn-share addthis_button_email\">\n",
       "<span class=\"playblk\"><img alt=\"Email\" class=\"playblk\" height=\"18\" src=\"//www.azlyrics.com/images/email.svg\" width=\"56\"/></span>\n",
       "</a>\n",
       "<a class=\"btn btn-xs btn-share addthis_button_print\" style=\"margin-right: 0px !important;\">\n",
       "<span class=\"playblk\"><img alt=\"Print\" class=\"playblk\" height=\"18\" src=\"//www.azlyrics.com/images/print.svg\" width=\"56\"/></span>\n",
       "</a>\n",
       "</div>\n",
       "</div>\n",
       "<!-- AddThis Button END -->\n",
       "<div class=\"div-share\"><h1>\"Sunday Bloody Sunday\" lyrics</h1></div>\n",
       "<div class=\"lyricsh\">\n",
       "<h2><b>U2 Lyrics</b></h2>\n",
       "</div>\n",
       "<div class=\"ringtone\">\n",
       "<span id=\"cf_text_top\"></span>\n",
       "</div>\n",
       "<b>\"Sunday Bloody Sunday\"</b><br/>\n",
       "<br/>\n",
       "<div>\n",
       "<!-- Usage of azlyrics.com content by any third-party lyrics provider is prohibited by our licensing agreement. Sorry about that. -->\n",
       "Yes...<br/>\n",
       "<br/>\n",
       "I can't believe the news today<br/>\n",
       "Oh, I can't close my eyes <br/>\n",
       "And make it go away<br/>\n",
       "How long...<br/>\n",
       "How long must we sing this song<br/>\n",
       "How long, how long...<br/>\n",
       "'cause tonight...we can be as one<br/>\n",
       "Tonight...<br/>\n",
       "<br/>\n",
       "Broken bottles under children's feet<br/>\n",
       "Bodies strewn across the dead end street<br/>\n",
       "But I won't heed the battle call<br/>\n",
       "It puts my back up<br/>\n",
       "Puts my back up against the wall<br/>\n",
       "<br/>\n",
       "Sunday, Bloody Sunday<br/>\n",
       "Sunday, Bloody Sunday<br/>\n",
       "Sunday, Bloody Sunday<br/>\n",
       "<br/>\n",
       "And the battle's just begun<br/>\n",
       "There's many lost, but tell me who has won<br/>\n",
       "The trench is dug within our hearts<br/>\n",
       "And mothers, children, brothers, sisters <br/>\n",
       "Torn apart<br/>\n",
       "<br/>\n",
       "Sunday, Bloody Sunday<br/>\n",
       "Sunday, Bloody Sunday<br/>\n",
       "<br/>\n",
       "How long...<br/>\n",
       "How long must we sing this song<br/>\n",
       "How long, how long...<br/>\n",
       "'cause tonight...we can be as one<br/>\n",
       "Tonight...tonight... <br/>\n",
       "<br/>\n",
       "Sunday, Bloody Sunday<br/>\n",
       "Sunday, Bloody Sunday<br/>\n",
       "<br/>\n",
       "Wipe the tears from your eyes<br/>\n",
       "Wipe your tears away<br/>\n",
       "Oh, wipe your tears away<br/>\n",
       "Oh, wipe your tears away<br/>\n",
       "(Sunday, Bloody Sunday)<br/>\n",
       "Oh, wipe your blood shot eyes<br/>\n",
       "(Sunday, Bloody Sunday)<br/>\n",
       "<br/>\n",
       "Sunday, Bloody Sunday (Sunday, Bloody Sunday)<br/>\n",
       "Sunday, Bloody Sunday (Sunday, Bloody Sunday)<br/>\n",
       "<br/>\n",
       "And it's true we are immune<br/>\n",
       "When fact is fiction and TV reality<br/>\n",
       "And today the millions cry<br/>\n",
       "We eat and drink while tomorrow they die<br/>\n",
       "<br/>\n",
       "(Sunday, Bloody Sunday)<br/>\n",
       "<br/>\n",
       "The real battle just begun<br/>\n",
       "To claim the victory Jesus won<br/>\n",
       "On...<br/>\n",
       "<br/>\n",
       "Sunday Bloody Sunday<br/>\n",
       "Sunday Bloody Sunday...\n",
       "</div>\n",
       "<br/><br/>\n",
       "<!-- MxM banner -->\n",
       "<div class=\"noprint\">\n",
       "<script>\n",
       "if  ( /Android|webOS|iPhone|iPod|iPad|BlackBerry|IEMobile|Opera Mini/i.test(navigator.userAgent) ) \n",
       "  {\n",
       "     document.write('<div style=\"margin-left: auto; margin-right: auto;\">'+\n",
       "  '<iframe scrolling=\"no\" style=\"border: 0px none; overflow:hidden;\" src=\"//adv.mxmcdn.net/br/t1.0/m_js/e_0/sn_0/l_18770556/su_0/rs_0/tr_3vUCAI5GANgG5eNgswSwxs9XAg21HSef-JHzhTMB-7d2-vwintPD7rDhynQMOyLHoNxsguYNW2GiUcDS7xGi0PHDYbSpVK92UcIiEIiODc2jL3CTdAyNVjFU_oLJGpYh-TzYke6_QYndAjtm7R6yVazhXXes5ABlw9tTKQwq9yA_p2vw6HNGqShlfvt-AYyq5HXstvWpJRadJ__gkbkNeUgDUWzbKrnYr5j73N7j5G3BCyxGl8NZwfnTtS2mq0VTV6jF9b5YqieYq8IVNqd-jDkx_6ERPK-_iqyCJTd1uYTwXJ-tlw1RsX1lHrUbAKGu-0uDIJXJqv_hdP5XVYBmWbVM5ICKCzt5b2PnRLvEyW2JdmaowtrAd6elPcHPqSKZyevF53royPWFBoOeGs-GRjh6T25S4dFwqny3X-HtcUfJSiINcPTbagfpZh0SXrU/\" width=\"290px\" height=\"50px\"></iframe>'+\n",
       "  '</div>');\n",
       "   }\n",
       "</script>\n",
       "<br/><br/>\n",
       "</div>\n",
       "<form action=\"../../add.php\" id=\"addsong\" method=\"post\">\n",
       "<input name=\"what\" type=\"hidden\" value=\"add_song\"/>\n",
       "<input name=\"artist\" type=\"hidden\" value=\"U2\"/>\n",
       "<input name=\"artist_id\" type=\"hidden\" value=\"675\"/>\n",
       "</form>\n",
       "<form action=\"../../add.php\" id=\"corlyr\" method=\"post\">\n",
       "<input name=\"what\" type=\"hidden\" value=\"correct_lyrics\"/>\n",
       "<input name=\"song_id\" type=\"hidden\" value=\"17497\"/>\n",
       "</form>\n",
       "<div class=\"smt noprint\">\n",
       "<a class=\"btn btn-share\" href=\"#\" onclick=\"submitCorrections()\"><span class=\"glyphicon glyphicon-pencil\"></span> Submit Corrections</a>\n",
       "</div>\n",
       "<div class=\"smt\"></div>\n",
       "<div class=\"noprint\" style=\"padding: 15px 0\">\n",
       "<span id=\"cf_text_bottom\"></span>\n",
       "</div>\n",
       "<!-- credits -->\n",
       "<div class=\"smt\"><small>Writer(s): CLAYTON ADAM, EVANS DAVID, HEWSON PAUL DAVID, MULLEN LAURENCE</small>\n",
       "<br/>\n",
       "</div>\n",
       "<!-- song facts -->\n",
       "<!-- artist link -->\n",
       "<ol class=\"breadcrumb noprint\" itemscope=\"\" itemtype=\"https://schema.org/BreadcrumbList\">\n",
       "<li itemprop=\"itemListElement\" itemscope=\"\" itemtype=\"https://schema.org/ListItem\"><a href=\"//www.azlyrics.com\" itemprop=\"item\"><span itemprop=\"name\">AZLyrics</span></a></li>\n",
       "<li itemprop=\"itemListElement\" itemscope=\"\" itemtype=\"https://schema.org/ListItem\"><a href=\"//www.azlyrics.com/u.html\" itemprop=\"item\"><span itemprop=\"name\">U</span></a></li>\n",
       "<li itemprop=\"itemListElement\" itemscope=\"\" itemtype=\"https://schema.org/ListItem\"><a href=\"//www.azlyrics.com/u/u2band.html\" itemprop=\"item\"><span itemprop=\"name\">U2 Lyrics</span></a></li>\n",
       "</ol>\n",
       "<!-- album songlists -->\n",
       "<div class=\"panel songlist-panel noprint\">\n",
       "album: <b>\"War\"</b> (1983)<br/><br/>\n",
       "<a href=\"sundaybloodysunday.html\">Sunday Bloody Sunday</a><br/>\n",
       "<a href=\"seconds.html\">Seconds</a><br/>\n",
       "<a href=\"newyearsday.html\">New Year's Day</a><br/>\n",
       "<a href=\"likeasong.html\">Like A Song</a><br/>\n",
       "<a href=\"drowningman.html\">Drowning Man</a><br/>\n",
       "<a href=\"therefugee.html\">The Refugee</a><br/>\n",
       "<a href=\"twoheartsbeatasone.html\">Two Hearts Beat As One</a><br/>\n",
       "<a href=\"redlight.html\">Red Light</a><br/>\n",
       "<a href=\"surrender.html\">Surrender</a><br/>\n",
       "<a href=\"40.html\">40</a><br/>\n",
       "</div>\n",
       "<!-- album songlists end -->\n",
       "<form action=\"//search.azlyrics.com/search.php\" class=\"search noprint\" method=\"get\" role=\"search\">\n",
       "<div class=\"input-group\" style=\"margin-bottom:15px\">\n",
       "<input class=\"form-control\" name=\"q\" placeholder=\"\" type=\"text\"/>\n",
       "<span class=\"input-group-btn\">\n",
       "<button class=\"btn btn-primary\" type=\"submit\"><span class=\"glyphicon glyphicon-search\"></span> Search</button>\n",
       "</span>\n",
       "</div>\n",
       "</form>\n",
       "<div class=\"noprint visible-xs-block\" style=\"margin-top:5px;margin-bottom:5px\">\n",
       "<span id=\"cf_rect_bottom\"></span>\n",
       "</div>\n",
       "</div>"
      ]
     },
     "execution_count": 36,
     "metadata": {},
     "output_type": "execute_result"
    }
   ],
   "source": [
    "soup.find('div', {\"class\" : \"col-xs-12 col-lg-8 text-center\"})"
   ]
  },
  {
   "cell_type": "code",
   "execution_count": 37,
   "metadata": {
    "scrolled": false
   },
   "outputs": [
    {
     "name": "stdout",
     "output_type": "stream",
     "text": [
      "0\n",
      "<div class=\"div-share noprint\">\n",
      "<div class=\"fb-like\" data-action=\"like\" data-href=\"https://www.azlyrics.com/lyrics/u2band/sundaybloodysunday.html\" data-layout=\"button_count\" data-share=\"false\" data-show-faces=\"false\" style=\"float:left;\"></div>\n",
      "<!-- AddThis Button BEGIN -->\n",
      "<script src=\"https://s7.addthis.com/js/300/addthis_widget.js#username=azlyrics\" type=\"text/javascript\"></script>\n",
      "<div class=\"addthis_toolbox addthis_default_style\" style=\"float:right;\">\n",
      "<a class=\"btn btn-xs btn-share addthis_button_email\">\n",
      "<span class=\"playblk\"><img alt=\"Email\" class=\"playblk\" height=\"18\" src=\"//www.azlyrics.com/images/email.svg\" width=\"56\"/></span>\n",
      "</a>\n",
      "<a class=\"btn btn-xs btn-share addthis_button_print\" style=\"margin-right: 0px !important;\">\n",
      "<span class=\"playblk\"><img alt=\"Print\" class=\"playblk\" height=\"18\" src=\"//www.azlyrics.com/images/print.svg\" width=\"56\"/></span>\n",
      "</a>\n",
      "</div>\n",
      "</div>\n",
      "---------\n",
      "1\n",
      "<div class=\"fb-like\" data-action=\"like\" data-href=\"https://www.azlyrics.com/lyrics/u2band/sundaybloodysunday.html\" data-layout=\"button_count\" data-share=\"false\" data-show-faces=\"false\" style=\"float:left;\"></div>\n",
      "---------\n",
      "2\n",
      "<div class=\"addthis_toolbox addthis_default_style\" style=\"float:right;\">\n",
      "<a class=\"btn btn-xs btn-share addthis_button_email\">\n",
      "<span class=\"playblk\"><img alt=\"Email\" class=\"playblk\" height=\"18\" src=\"//www.azlyrics.com/images/email.svg\" width=\"56\"/></span>\n",
      "</a>\n",
      "<a class=\"btn btn-xs btn-share addthis_button_print\" style=\"margin-right: 0px !important;\">\n",
      "<span class=\"playblk\"><img alt=\"Print\" class=\"playblk\" height=\"18\" src=\"//www.azlyrics.com/images/print.svg\" width=\"56\"/></span>\n",
      "</a>\n",
      "</div>\n",
      "---------\n",
      "3\n",
      "<div class=\"div-share\"><h1>\"Sunday Bloody Sunday\" lyrics</h1></div>\n",
      "---------\n",
      "4\n",
      "<div class=\"lyricsh\">\n",
      "<h2><b>U2 Lyrics</b></h2>\n",
      "</div>\n",
      "---------\n",
      "5\n",
      "<div class=\"ringtone\">\n",
      "<span id=\"cf_text_top\"></span>\n",
      "</div>\n",
      "---------\n",
      "6\n",
      "<div>\n",
      "<!-- Usage of azlyrics.com content by any third-party lyrics provider is prohibited by our licensing agreement. Sorry about that. -->\r\n",
      "Yes...<br/>\n",
      "<br/>\r\n",
      "I can't believe the news today<br/>\r\n",
      "Oh, I can't close my eyes <br/>\r\n",
      "And make it go away<br/>\r\n",
      "How long...<br/>\r\n",
      "How long must we sing this song<br/>\r\n",
      "How long, how long...<br/>\r\n",
      "'cause tonight...we can be as one<br/>\r\n",
      "Tonight...<br/>\n",
      "<br/>\r\n",
      "Broken bottles under children's feet<br/>\r\n",
      "Bodies strewn across the dead end street<br/>\r\n",
      "But I won't heed the battle call<br/>\r\n",
      "It puts my back up<br/>\r\n",
      "Puts my back up against the wall<br/>\n",
      "<br/>\r\n",
      "Sunday, Bloody Sunday<br/>\r\n",
      "Sunday, Bloody Sunday<br/>\r\n",
      "Sunday, Bloody Sunday<br/>\n",
      "<br/>\r\n",
      "And the battle's just begun<br/>\r\n",
      "There's many lost, but tell me who has won<br/>\r\n",
      "The trench is dug within our hearts<br/>\r\n",
      "And mothers, children, brothers, sisters <br/>\r\n",
      "Torn apart<br/>\n",
      "<br/>\r\n",
      "Sunday, Bloody Sunday<br/>\r\n",
      "Sunday, Bloody Sunday<br/>\n",
      "<br/>\r\n",
      "How long...<br/>\r\n",
      "How long must we sing this song<br/>\r\n",
      "How long, how long...<br/>\r\n",
      "'cause tonight...we can be as one<br/>\r\n",
      "Tonight...tonight... <br/>\n",
      "<br/>\r\n",
      "Sunday, Bloody Sunday<br/>\r\n",
      "Sunday, Bloody Sunday<br/>\n",
      "<br/>\r\n",
      "Wipe the tears from your eyes<br/>\r\n",
      "Wipe your tears away<br/>\r\n",
      "Oh, wipe your tears away<br/>\r\n",
      "Oh, wipe your tears away<br/>\r\n",
      "(Sunday, Bloody Sunday)<br/>\r\n",
      "Oh, wipe your blood shot eyes<br/>\r\n",
      "(Sunday, Bloody Sunday)<br/>\n",
      "<br/>\r\n",
      "Sunday, Bloody Sunday (Sunday, Bloody Sunday)<br/>\r\n",
      "Sunday, Bloody Sunday (Sunday, Bloody Sunday)<br/>\n",
      "<br/>\r\n",
      "And it's true we are immune<br/>\r\n",
      "When fact is fiction and TV reality<br/>\r\n",
      "And today the millions cry<br/>\r\n",
      "We eat and drink while tomorrow they die<br/>\n",
      "<br/>\r\n",
      "(Sunday, Bloody Sunday)<br/>\n",
      "<br/>\r\n",
      "The real battle just begun<br/>\r\n",
      "To claim the victory Jesus won<br/>\r\n",
      "On...<br/>\n",
      "<br/>\r\n",
      "Sunday Bloody Sunday<br/>\r\n",
      "Sunday Bloody Sunday...\n",
      "</div>\n",
      "---------\n",
      "7\n",
      "<div class=\"noprint\">\n",
      "<script>\r\n",
      "if  ( /Android|webOS|iPhone|iPod|iPad|BlackBerry|IEMobile|Opera Mini/i.test(navigator.userAgent) ) \r\n",
      "  {\r\n",
      "     document.write('<div style=\"margin-left: auto; margin-right: auto;\">'+\r\n",
      "  '<iframe scrolling=\"no\" style=\"border: 0px none; overflow:hidden;\" src=\"//adv.mxmcdn.net/br/t1.0/m_js/e_0/sn_0/l_18770556/su_0/rs_0/tr_3vUCAI5GANgG5eNgswSwxs9XAg21HSef-JHzhTMB-7d2-vwintPD7rDhynQMOyLHoNxsguYNW2GiUcDS7xGi0PHDYbSpVK92UcIiEIiODc2jL3CTdAyNVjFU_oLJGpYh-TzYke6_QYndAjtm7R6yVazhXXes5ABlw9tTKQwq9yA_p2vw6HNGqShlfvt-AYyq5HXstvWpJRadJ__gkbkNeUgDUWzbKrnYr5j73N7j5G3BCyxGl8NZwfnTtS2mq0VTV6jF9b5YqieYq8IVNqd-jDkx_6ERPK-_iqyCJTd1uYTwXJ-tlw1RsX1lHrUbAKGu-0uDIJXJqv_hdP5XVYBmWbVM5ICKCzt5b2PnRLvEyW2JdmaowtrAd6elPcHPqSKZyevF53royPWFBoOeGs-GRjh6T25S4dFwqny3X-HtcUfJSiINcPTbagfpZh0SXrU/\" width=\"290px\" height=\"50px\"></iframe>'+\r\n",
      "  '</div>');\r\n",
      "   }\r\n",
      "</script>\n",
      "<br/><br/>\n",
      "</div>\n",
      "---------\n",
      "8\n",
      "<div class=\"smt noprint\">\n",
      "<a class=\"btn btn-share\" href=\"#\" onclick=\"submitCorrections()\"><span class=\"glyphicon glyphicon-pencil\"></span> Submit Corrections</a>\n",
      "</div>\n",
      "---------\n",
      "9\n",
      "<div class=\"smt\"></div>\n",
      "---------\n",
      "10\n",
      "<div class=\"noprint\" style=\"padding: 15px 0\">\n",
      "<span id=\"cf_text_bottom\"></span>\n",
      "</div>\n",
      "---------\n",
      "11\n",
      "<div class=\"smt\"><small>Writer(s): CLAYTON ADAM, EVANS DAVID, HEWSON PAUL DAVID, MULLEN LAURENCE</small>\n",
      "<br/>\n",
      "</div>\n",
      "---------\n",
      "12\n",
      "<div class=\"panel songlist-panel noprint\">\r\n",
      "album: <b>\"War\"</b> (1983)<br/><br/>\n",
      "<a href=\"sundaybloodysunday.html\">Sunday Bloody Sunday</a><br/>\n",
      "<a href=\"seconds.html\">Seconds</a><br/>\n",
      "<a href=\"newyearsday.html\">New Year's Day</a><br/>\n",
      "<a href=\"likeasong.html\">Like A Song</a><br/>\n",
      "<a href=\"drowningman.html\">Drowning Man</a><br/>\n",
      "<a href=\"therefugee.html\">The Refugee</a><br/>\n",
      "<a href=\"twoheartsbeatasone.html\">Two Hearts Beat As One</a><br/>\n",
      "<a href=\"redlight.html\">Red Light</a><br/>\n",
      "<a href=\"surrender.html\">Surrender</a><br/>\n",
      "<a href=\"40.html\">40</a><br/>\n",
      "</div>\n",
      "---------\n",
      "13\n",
      "<div class=\"input-group\" style=\"margin-bottom:15px\">\n",
      "<input class=\"form-control\" name=\"q\" placeholder=\"\" type=\"text\"/>\n",
      "<span class=\"input-group-btn\">\n",
      "<button class=\"btn btn-primary\" type=\"submit\"><span class=\"glyphicon glyphicon-search\"></span> Search</button>\n",
      "</span>\n",
      "</div>\n",
      "---------\n",
      "14\n",
      "<div class=\"noprint visible-xs-block\" style=\"margin-top:5px;margin-bottom:5px\">\n",
      "<span id=\"cf_rect_bottom\"></span>\n",
      "</div>\n",
      "---------\n"
     ]
    }
   ],
   "source": [
    "counter = 0\n",
    "for div in soup.find('div', {\"class\" : \"col-xs-12 col-lg-8 text-center\"}).findAll('div'):\n",
    "    print(counter)\n",
    "    print(div)\n",
    "    print('---------')\n",
    "    counter +=1   "
   ]
  },
  {
   "cell_type": "code",
   "execution_count": 38,
   "metadata": {},
   "outputs": [
    {
     "data": {
      "text/plain": [
       "\"\\n\\r\\nYes...\\n\\r\\nI can't believe the news today\\r\\nOh, I can't close my eyes \\r\\nAnd make it go away\\r\\nHow long...\\r\\nHow long must we sing this song\\r\\nHow long, how long...\\r\\n'cause tonight...we can be as one\\r\\nTonight...\\n\\r\\nBroken bottles under children's feet\\r\\nBodies strewn across the dead end street\\r\\nBut I won't heed the battle call\\r\\nIt puts my back up\\r\\nPuts my back up against the wall\\n\\r\\nSunday, Bloody Sunday\\r\\nSunday, Bloody Sunday\\r\\nSunday, Bloody Sunday\\n\\r\\nAnd the battle's just begun\\r\\nThere's many lost, but tell me who has won\\r\\nThe trench is dug within our hearts\\r\\nAnd mothers, children, brothers, sisters \\r\\nTorn apart\\n\\r\\nSunday, Bloody Sunday\\r\\nSunday, Bloody Sunday\\n\\r\\nHow long...\\r\\nHow long must we sing this song\\r\\nHow long, how long...\\r\\n'cause tonight...we can be as one\\r\\nTonight...tonight... \\n\\r\\nSunday, Bloody Sunday\\r\\nSunday, Bloody Sunday\\n\\r\\nWipe the tears from your eyes\\r\\nWipe your tears away\\r\\nOh, wipe your tears away\\r\\nOh, wipe your tears away\\r\\n(Sunday, Bloody Sunday)\\r\\nOh, wipe your blood shot eyes\\r\\n(Sunday, Bloody Sunday)\\n\\r\\nSunday, Bloody Sunday (Sunday, Bloody Sunday)\\r\\nSunday, Bloody Sunday (Sunday, Bloody Sunday)\\n\\r\\nAnd it's true we are immune\\r\\nWhen fact is fiction and TV reality\\r\\nAnd today the millions cry\\r\\nWe eat and drink while tomorrow they die\\n\\r\\n(Sunday, Bloody Sunday)\\n\\r\\nThe real battle just begun\\r\\nTo claim the victory Jesus won\\r\\nOn...\\n\\r\\nSunday Bloody Sunday\\r\\nSunday Bloody Sunday...\\n\""
      ]
     },
     "execution_count": 38,
     "metadata": {},
     "output_type": "execute_result"
    }
   ],
   "source": [
    "soup.find('div', {\"class\" : \"col-xs-12 col-lg-8 text-center\"}).findAll('div')[6].text"
   ]
  },
  {
   "cell_type": "markdown",
   "metadata": {},
   "source": [
    "## Synthesizing\n",
    "Create a script using your two functions above to scrape all of the song lyrics for a given artist.\n"
   ]
  },
  {
   "cell_type": "code",
   "execution_count": 21,
   "metadata": {},
   "outputs": [
    {
     "name": "stdout",
     "output_type": "stream",
     "text": [
      "\n",
      "\r\n",
      "Yes...\n",
      "\r\n",
      "I can't believe the news today\r\n",
      "Oh, I can't close my eyes \r\n",
      "And make it go away\r\n",
      "How long...\r\n",
      "How long must we sing this song\r\n",
      "How long, how long...\r\n",
      "'cause tonight...we can be as one\r\n",
      "Tonight...\n",
      "\r\n",
      "Broken bottles under children's feet\r\n",
      "Bodies strewn across the dead end street\r\n",
      "But I won't heed the battle call\r\n",
      "It puts my back up\r\n",
      "Puts my back up against the wall\n",
      "\r\n",
      "Sunday, Bloody Sunday\r\n",
      "Sunday, Bloody Sunday\r\n",
      "Sunday, Bloody Sunday\n",
      "\r\n",
      "And the battle's just begun\r\n",
      "There's many lost, but tell me who has won\r\n",
      "The trench is dug within our hearts\r\n",
      "And mothers, children, brothers, sisters \r\n",
      "Torn apart\n",
      "\r\n",
      "Sunday, Bloody Sunday\r\n",
      "Sunday, Bloody Sunday\n",
      "\r\n",
      "How long...\r\n",
      "How long must we sing this song\r\n",
      "How long, how long...\r\n",
      "'cause tonight...we can be as one\r\n",
      "Tonight...tonight... \n",
      "\r\n",
      "Sunday, Bloody Sunday\r\n",
      "Sunday, Bloody Sunday\n",
      "\r\n",
      "Wipe the tears from your eyes\r\n",
      "Wipe your tears away\r\n",
      "Oh, wipe your tears away\r\n",
      "Oh, wipe your tears away\r\n",
      "(Sunday, Bloody Sunday)\r\n",
      "Oh, wipe your blood shot eyes\r\n",
      "(Sunday, Bloody Sunday)\n",
      "\r\n",
      "Sunday, Bloody Sunday (Sunday, Bloody Sunday)\r\n",
      "Sunday, Bloody Sunday (Sunday, Bloody Sunday)\n",
      "\r\n",
      "And it's true we are immune\r\n",
      "When fact is fiction and TV reality\r\n",
      "And today the millions cry\r\n",
      "We eat and drink while tomorrow they die\n",
      "\r\n",
      "(Sunday, Bloody Sunday)\n",
      "\r\n",
      "The real battle just begun\r\n",
      "To claim the victory Jesus won\r\n",
      "On...\n",
      "\r\n",
      "Sunday Bloody Sunday\r\n",
      "Sunday Bloody Sunday...\n",
      "\n",
      "\n",
      "\n"
     ]
    }
   ],
   "source": [
    "#Use this block for your code!\n",
    "stuff = scrape_lyric('https://www.azlyrics.com/lyrics/u2band/sundaybloodysunday.html')\n",
    "print(stuff)\n",
    "print(stuff[0])"
   ]
  },
  {
   "cell_type": "code",
   "execution_count": 22,
   "metadata": {},
   "outputs": [],
   "source": [
    "songs = grab_song_link('https://www.azlyrics.com/u/u2band.html')\n",
    "url_base = \"https://www.azlyrics.com\"\n",
    "lyrics = []\n",
    "for song in songs:\n",
    "    try:\n",
    "        url_end = song[1].replace('..','')\n",
    "        url = url_base + url_end\n",
    "        lyr = scrape_lyric(url)\n",
    "        lyrics.append(lyr)\n",
    "    except:\n",
    "        lyrics.append(\"N/A\")"
   ]
  },
  {
   "cell_type": "code",
   "execution_count": 23,
   "metadata": {},
   "outputs": [
    {
     "name": "stdout",
     "output_type": "stream",
     "text": [
      "255\n",
      "255\n"
     ]
    }
   ],
   "source": [
    "print(len(songs))\n",
    "print(len(lyrics))"
   ]
  },
  {
   "cell_type": "code",
   "execution_count": 24,
   "metadata": {},
   "outputs": [],
   "source": [
    "import pandas as pd"
   ]
  },
  {
   "cell_type": "code",
   "execution_count": 26,
   "metadata": {},
   "outputs": [
    {
     "data": {
      "text/html": [
       "<div>\n",
       "<style scoped>\n",
       "    .dataframe tbody tr th:only-of-type {\n",
       "        vertical-align: middle;\n",
       "    }\n",
       "\n",
       "    .dataframe tbody tr th {\n",
       "        vertical-align: top;\n",
       "    }\n",
       "\n",
       "    .dataframe thead th {\n",
       "        text-align: right;\n",
       "    }\n",
       "</style>\n",
       "<table border=\"1\" class=\"dataframe\">\n",
       "  <thead>\n",
       "    <tr style=\"text-align: right;\">\n",
       "      <th></th>\n",
       "      <th>0</th>\n",
       "      <th>1</th>\n",
       "    </tr>\n",
       "  </thead>\n",
       "  <tbody>\n",
       "    <tr>\n",
       "      <th>0</th>\n",
       "      <td>(I Will Follow, ../lyrics/u2band/iwillfollow.h...</td>\n",
       "      <td>\\n\\r\\nI will Follow...\\n\\r\\nI was on the outsi...</td>\n",
       "    </tr>\n",
       "    <tr>\n",
       "      <th>1</th>\n",
       "      <td>(Twilight, ../lyrics/u2band/twilight.html, alb...</td>\n",
       "      <td>\\n\\r\\nI look into his eyes\\r\\nThey're closed b...</td>\n",
       "    </tr>\n",
       "    <tr>\n",
       "      <th>2</th>\n",
       "      <td>(An Cat Dubh, ../lyrics/u2band/ancatdubh.html,...</td>\n",
       "      <td>\\n\\r\\nSay goodnight\\r\\nShe waits for me to\\r\\n...</td>\n",
       "    </tr>\n",
       "    <tr>\n",
       "      <th>3</th>\n",
       "      <td>(Into The Heart, ../lyrics/u2band/intotheheart...</td>\n",
       "      <td>\\n\\r\\nInto the heart...of a child\\r\\nI stay a ...</td>\n",
       "    </tr>\n",
       "    <tr>\n",
       "      <th>4</th>\n",
       "      <td>(Out Of Control, ../lyrics/u2band/outofcontrol...</td>\n",
       "      <td>\\n\\r\\nMonday morning\\r\\nEighteen years of dawn...</td>\n",
       "    </tr>\n",
       "  </tbody>\n",
       "</table>\n",
       "</div>"
      ],
      "text/plain": [
       "                                                   0  \\\n",
       "0  (I Will Follow, ../lyrics/u2band/iwillfollow.h...   \n",
       "1  (Twilight, ../lyrics/u2band/twilight.html, alb...   \n",
       "2  (An Cat Dubh, ../lyrics/u2band/ancatdubh.html,...   \n",
       "3  (Into The Heart, ../lyrics/u2band/intotheheart...   \n",
       "4  (Out Of Control, ../lyrics/u2band/outofcontrol...   \n",
       "\n",
       "                                                   1  \n",
       "0  \\n\\r\\nI will Follow...\\n\\r\\nI was on the outsi...  \n",
       "1  \\n\\r\\nI look into his eyes\\r\\nThey're closed b...  \n",
       "2  \\n\\r\\nSay goodnight\\r\\nShe waits for me to\\r\\n...  \n",
       "3  \\n\\r\\nInto the heart...of a child\\r\\nI stay a ...  \n",
       "4  \\n\\r\\nMonday morning\\r\\nEighteen years of dawn...  "
      ]
     },
     "execution_count": 26,
     "metadata": {},
     "output_type": "execute_result"
    }
   ],
   "source": [
    "df = pd.DataFrame(list(zip(songs,lyrics)))\n",
    "df.head()"
   ]
  },
  {
   "cell_type": "code",
   "execution_count": 33,
   "metadata": {},
   "outputs": [
    {
     "data": {
      "text/plain": [
       "1"
      ]
     },
     "execution_count": 33,
     "metadata": {},
     "output_type": "execute_result"
    }
   ],
   "source": [
    "len(df.iloc[1:2])"
   ]
  },
  {
   "cell_type": "code",
   "execution_count": 34,
   "metadata": {},
   "outputs": [
    {
     "data": {
      "text/html": [
       "<div>\n",
       "<style scoped>\n",
       "    .dataframe tbody tr th:only-of-type {\n",
       "        vertical-align: middle;\n",
       "    }\n",
       "\n",
       "    .dataframe tbody tr th {\n",
       "        vertical-align: top;\n",
       "    }\n",
       "\n",
       "    .dataframe thead th {\n",
       "        text-align: right;\n",
       "    }\n",
       "</style>\n",
       "<table border=\"1\" class=\"dataframe\">\n",
       "  <thead>\n",
       "    <tr style=\"text-align: right;\">\n",
       "      <th></th>\n",
       "      <th>0</th>\n",
       "      <th>Lyrics</th>\n",
       "      <th>Song</th>\n",
       "      <th>Song_end</th>\n",
       "      <th>Album</th>\n",
       "    </tr>\n",
       "  </thead>\n",
       "  <tbody>\n",
       "    <tr>\n",
       "      <th>0</th>\n",
       "      <td>(I Will Follow, ../lyrics/u2band/iwillfollow.h...</td>\n",
       "      <td>\\n\\r\\nI will Follow...\\n\\r\\nI was on the outsi...</td>\n",
       "      <td>I Will Follow</td>\n",
       "      <td>../lyrics/u2band/iwillfollow.html</td>\n",
       "      <td>album: \"Boy\" (1980)</td>\n",
       "    </tr>\n",
       "    <tr>\n",
       "      <th>1</th>\n",
       "      <td>(Twilight, ../lyrics/u2band/twilight.html, alb...</td>\n",
       "      <td>\\n\\r\\nI look into his eyes\\r\\nThey're closed b...</td>\n",
       "      <td>Twilight</td>\n",
       "      <td>../lyrics/u2band/twilight.html</td>\n",
       "      <td>album: \"Boy\" (1980)</td>\n",
       "    </tr>\n",
       "    <tr>\n",
       "      <th>2</th>\n",
       "      <td>(An Cat Dubh, ../lyrics/u2band/ancatdubh.html,...</td>\n",
       "      <td>\\n\\r\\nSay goodnight\\r\\nShe waits for me to\\r\\n...</td>\n",
       "      <td>An Cat Dubh</td>\n",
       "      <td>../lyrics/u2band/ancatdubh.html</td>\n",
       "      <td>album: \"Boy\" (1980)</td>\n",
       "    </tr>\n",
       "    <tr>\n",
       "      <th>3</th>\n",
       "      <td>(Into The Heart, ../lyrics/u2band/intotheheart...</td>\n",
       "      <td>\\n\\r\\nInto the heart...of a child\\r\\nI stay a ...</td>\n",
       "      <td>Into The Heart</td>\n",
       "      <td>../lyrics/u2band/intotheheart.html</td>\n",
       "      <td>album: \"Boy\" (1980)</td>\n",
       "    </tr>\n",
       "    <tr>\n",
       "      <th>4</th>\n",
       "      <td>(Out Of Control, ../lyrics/u2band/outofcontrol...</td>\n",
       "      <td>\\n\\r\\nMonday morning\\r\\nEighteen years of dawn...</td>\n",
       "      <td>Out Of Control</td>\n",
       "      <td>../lyrics/u2band/outofcontrol.html</td>\n",
       "      <td>album: \"Boy\" (1980)</td>\n",
       "    </tr>\n",
       "  </tbody>\n",
       "</table>\n",
       "</div>"
      ],
      "text/plain": [
       "                                                   0  \\\n",
       "0  (I Will Follow, ../lyrics/u2band/iwillfollow.h...   \n",
       "1  (Twilight, ../lyrics/u2band/twilight.html, alb...   \n",
       "2  (An Cat Dubh, ../lyrics/u2band/ancatdubh.html,...   \n",
       "3  (Into The Heart, ../lyrics/u2band/intotheheart...   \n",
       "4  (Out Of Control, ../lyrics/u2band/outofcontrol...   \n",
       "\n",
       "                                              Lyrics            Song  \\\n",
       "0  \\n\\r\\nI will Follow...\\n\\r\\nI was on the outsi...   I Will Follow   \n",
       "1  \\n\\r\\nI look into his eyes\\r\\nThey're closed b...        Twilight   \n",
       "2  \\n\\r\\nSay goodnight\\r\\nShe waits for me to\\r\\n...     An Cat Dubh   \n",
       "3  \\n\\r\\nInto the heart...of a child\\r\\nI stay a ...  Into The Heart   \n",
       "4  \\n\\r\\nMonday morning\\r\\nEighteen years of dawn...  Out Of Control   \n",
       "\n",
       "                             Song_end                Album  \n",
       "0   ../lyrics/u2band/iwillfollow.html  album: \"Boy\" (1980)  \n",
       "1      ../lyrics/u2band/twilight.html  album: \"Boy\" (1980)  \n",
       "2     ../lyrics/u2band/ancatdubh.html  album: \"Boy\" (1980)  \n",
       "3  ../lyrics/u2band/intotheheart.html  album: \"Boy\" (1980)  \n",
       "4  ../lyrics/u2band/outofcontrol.html  album: \"Boy\" (1980)  "
      ]
     },
     "execution_count": 34,
     "metadata": {},
     "output_type": "execute_result"
    }
   ],
   "source": [
    "df['Song'] = df[0].map(lambda x: x[0])\n",
    "df['Song_end'] = df[0].map(lambda x: x[1])\n",
    "df['Album'] = df[0].map(lambda x: x[2])\n",
    "df = df.rename(columns={1:'Lyrics'})\n",
    "df.head()"
   ]
  },
  {
   "cell_type": "markdown",
   "metadata": {},
   "source": [
    "## Visualizing\n",
    "Generate two bar graphs to compare lyrical changes for the artist of your chose. For example, the two bar charts could compare the lyrics for two different songs or two different albums."
   ]
  },
  {
   "cell_type": "code",
   "execution_count": 39,
   "metadata": {},
   "outputs": [],
   "source": [
    "#Use this block for your code!\n",
    "import matplotlib.pyplot as plt\n",
    "import seaborn as sns\n",
    "%matplotlib inline"
   ]
  },
  {
   "cell_type": "code",
   "execution_count": 41,
   "metadata": {},
   "outputs": [
    {
     "data": {
      "text/plain": [
       "I            20\n",
       "walkaway,    12\n",
       "will         10\n",
       "follow        8\n",
       "you           8\n",
       "was           6\n",
       "If            6\n",
       "dtype: int64"
      ]
     },
     "execution_count": 41,
     "metadata": {},
     "output_type": "execute_result"
    }
   ],
   "source": [
    "pd.Series(df.Lyrics.iloc[0].split()).value_counts()[:7]"
   ]
  },
  {
   "cell_type": "code",
   "execution_count": 52,
   "metadata": {},
   "outputs": [
    {
     "data": {
      "text/plain": [
       "Text(0.5, 1.0, 'top 7 words for: ../lyrics/u2band/twilight.html')"
      ]
     },
     "execution_count": 52,
     "metadata": {},
     "output_type": "execute_result"
    },
    {
     "data": {
      "image/png": "[encoded data removed]",
      "text/plain": [
       "<Figure size 720x576 with 2 Axes>"
      ]
     },
     "metadata": {
      "needs_background": "light"
     },
     "output_type": "display_data"
    }
   ],
   "source": [
    "fig, axes = plt.subplots(1,2, figsize = (10,8))\n",
    "top_7 = pd.Series(df.Lyrics.iloc[0].split()).value_counts()[:7]\n",
    "top_7.plot(ax = axes[0], kind='barh')\n",
    "axes[0].set_title('top 7 words for: {}'.format(df['Song_end'].iloc[0]))\n",
    "\n",
    "top_7 = pd.Series(df.Lyrics.iloc[1].split()).value_counts()[:7]\n",
    "top_7.plot(ax = axes[1], kind='barh')\n",
    "axes[1].set_title('top 7 words for: {}'.format(df['Song_end'].iloc[1]))\n"
   ]
  },
  {
   "cell_type": "markdown",
   "metadata": {},
   "source": [
    "## Level - Up\n",
    "\n",
    "Think about how you structured the data from your web scraper. Did you scrape the entire song lyrics verbatim? Did you simply store the words and their frequency counts, or did you do something else entirely? List out a few different options for how you could have stored this data. What are advantages and disadvantages of each? Be specific and think about what sort of analyses each representation would lend itself to."
   ]
  },
  {
   "cell_type": "code",
   "execution_count": null,
   "metadata": {},
   "outputs": [],
   "source": [
    "#Use this block for your code!"
   ]
  },
  {
   "cell_type": "markdown",
   "metadata": {},
   "source": [
    "## Summary"
   ]
  },
  {
   "cell_type": "markdown",
   "metadata": {},
   "source": [
    "Congratulations! You've now practiced your Beautiful Soup knowledge!"
   ]
  }
 ],
 "metadata": {
  "kernelspec": {
   "display_name": "learn-env",
   "language": "python",
   "name": "learn-env"
  }
 },
 "nbformat": 4,
 "nbformat_minor": 2
}
